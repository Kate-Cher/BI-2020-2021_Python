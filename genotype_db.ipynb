{
  "nbformat": 4,
  "nbformat_minor": 5,
  "metadata": {
    "kernelspec": {
      "display_name": "Python 3",
      "language": "python",
      "name": "python3"
    },
    "language_info": {
      "codemirror_mode": {
        "name": "ipython",
        "version": 3
      },
      "file_extension": ".py",
      "mimetype": "text/x-python",
      "name": "python",
      "nbconvert_exporter": "python",
      "pygments_lexer": "ipython3",
      "version": "3.7.6"
    },
    "colab": {
      "name": "genotype_db.ipynb",
      "provenance": [],
      "toc_visible": true,
      "include_colab_link": true
    }
  },
  "cells": [
    {
      "cell_type": "markdown",
      "metadata": {
        "id": "view-in-github",
        "colab_type": "text"
      },
      "source": [
        "<a href=\"https://colab.research.google.com/github/Kate-Cher/BI-2020-2021_Python/blob/SQL_hw/genotype_db.ipynb\" target=\"_parent\"><img src=\"https://colab.research.google.com/assets/colab-badge.svg\" alt=\"Open In Colab\"/></a>"
      ]
    },
    {
      "cell_type": "markdown",
      "metadata": {
        "id": "extraordinary-prototype"
      },
      "source": [
        "# Genotyping data database"
      ],
      "id": "extraordinary-prototype"
    },
    {
      "cell_type": "markdown",
      "metadata": {
        "id": "m1IUHse6B7yH"
      },
      "source": [
        "## Creating db with 2 tables"
      ],
      "id": "m1IUHse6B7yH"
    },
    {
      "cell_type": "code",
      "metadata": {
        "id": "alert-restriction"
      },
      "source": [
        "import csv\n",
        "import pandas as pd\n",
        "import sqlite3"
      ],
      "id": "alert-restriction",
      "execution_count": 4,
      "outputs": []
    },
    {
      "cell_type": "code",
      "metadata": {
        "id": "perceived-orange"
      },
      "source": [
        "# Create DB\n",
        "connection = sqlite3.connect('genotype.db')"
      ],
      "id": "perceived-orange",
      "execution_count": 5,
      "outputs": []
    },
    {
      "cell_type": "code",
      "metadata": {
        "id": "peaceful-designation"
      },
      "source": [
        "#Create table\n",
        "query = '''CREATE TABLE meta \n",
        "            (\"dna_chip_id\" TEXT PRIMARY KEY, \n",
        "            \"breed\" TEXT, \n",
        "            \"sex\" TEXT)'''\n",
        "connection.execute(query)\n",
        "connection.commit()"
      ],
      "id": "peaceful-designation",
      "execution_count": 6,
      "outputs": []
    },
    {
      "cell_type": "code",
      "metadata": {
        "id": "intimate-clarity"
      },
      "source": [
        "# Read data\n",
        "metadata = pd.read_csv('/content/metadata.csv', index_col=0)\n",
        "genstudio = pd.read_csv('/content/genstudio.csv', index_col=0)\n",
        "genstudio = genstudio.rename(columns={ 'Sample ID' : 'dna_chip_id'})"
      ],
      "id": "intimate-clarity",
      "execution_count": null,
      "outputs": []
    },
    {
      "cell_type": "code",
      "metadata": {
        "id": "ideal-tobacco"
      },
      "source": [
        "# Insert DF to DB\n",
        "metadata.to_sql('meta', con=connection, if_exists='append', index=False, chunksize=10000)"
      ],
      "id": "ideal-tobacco",
      "execution_count": 8,
      "outputs": []
    },
    {
      "cell_type": "code",
      "metadata": {
        "colab": {
          "base_uri": "https://localhost:8080/"
        },
        "id": "grand-machine",
        "outputId": "7bd78790-8c53-48e0-ad89-be95e198b24e"
      },
      "source": [
        "# SNP's analyze\n",
        "genstudio[['dna_chip_id']].value_counts()"
      ],
      "id": "grand-machine",
      "execution_count": 9,
      "outputs": [
        {
          "output_type": "execute_result",
          "data": {
            "text/plain": [
              "dna_chip_id       \n",
              "202341831114R08C01    68516\n",
              "202341831127R03C01    68516\n",
              "202341831114R01C02    68516\n",
              "202341831114R02C01    68516\n",
              "202341831114R02C02    68516\n",
              "202341831114R03C01    68516\n",
              "202341831114R03C02    68516\n",
              "202341831114R04C01    68516\n",
              "202341831114R04C02    68516\n",
              "202341831114R05C01    68516\n",
              "202341831114R05C02    68516\n",
              "202341831114R06C01    68516\n",
              "202341831114R06C02    68516\n",
              "202341831114R07C01    68516\n",
              "202341831114R07C02    68516\n",
              "202341831114R01C01    68516\n",
              "202341831114R08C02    68516\n",
              "202341831114R09C01    68516\n",
              "202341831114R09C02    68516\n",
              "202341831114R10C01    68516\n",
              "202341831114R10C02    68516\n",
              "202341831114R11C01    68516\n",
              "202341831114R11C02    68516\n",
              "202341831114R12C01    68516\n",
              "202341831114R12C02    68516\n",
              "202341831127R01C01    68516\n",
              "202341831127R01C02    68516\n",
              "202341831127R02C01    68516\n",
              "202341831127R02C02    68516\n",
              "202341831127R03C02    13036\n",
              "dtype: int64"
            ]
          },
          "metadata": {
            "tags": []
          },
          "execution_count": 9
        }
      ]
    },
    {
      "cell_type": "markdown",
      "metadata": {
        "id": "vCS3rnv_qAjA"
      },
      "source": [
        "As we can see, there are some problems in 202341831127R03C02 DNA chip ID, so probably we should delete this ID form db"
      ],
      "id": "vCS3rnv_qAjA"
    },
    {
      "cell_type": "code",
      "metadata": {
        "id": "X0TQHI6Am3iu"
      },
      "source": [
        "# Create db\n",
        "query = '''CREATE TABLE genotype\n",
        "            (\"genotyping_id\" INTEGER PRIMARY KEY, \n",
        "            \"SNP Name\" TEXT, \n",
        "            \"SNP Index\" INTEGER, \n",
        "            \"SNP Aux\" INTEGER, \n",
        "            \"dna_chip_id\" TEXT, \n",
        "            \"SNP\" TEXT, \n",
        "            \"Allele1 - Top\" TEXT, \n",
        "            \"Allele2 - Top\" TEXT, \n",
        "            \"Allele1 - Forward\" TEXT, \n",
        "            \"Allele2 - Forward\" TEXT, \n",
        "            \"Allele1 - AB\" TEXT, \n",
        "            \"Allele2 - AB\" TEXT, \n",
        "            \"Chr\" TEXT, \n",
        "            \"Position\" TEXT, \n",
        "            \"GC Score\" REAL, \n",
        "            \"GT Score\" REAL, \n",
        "            \"Theta\" REAL, \n",
        "            \"R\" REAL, \n",
        "            \"B Allele Freq\" REAL, \n",
        "            \"Log R Ratio\" REAL,\n",
        "            CONSTRAINT fk_metadata\n",
        "                FOREIGN KEY (\"dna_chip_id\")\n",
        "                REFERENCES meta(\"dna_chip_id\")\n",
        "                ON DELETE CASCADE)'''\n",
        "connection.execute(query)\n",
        "connection.commit()\n"
      ],
      "id": "X0TQHI6Am3iu",
      "execution_count": 10,
      "outputs": []
    },
    {
      "cell_type": "code",
      "metadata": {
        "colab": {
          "base_uri": "https://localhost:8080/"
        },
        "id": "TXm1ta_FnPZ-",
        "outputId": "1c2b237a-2858-4b7b-bf42-c31af6743ee9"
      },
      "source": [
        "# Insert genotype data to db\n",
        "genstudio.to_sql('genotype', con=connection, if_exists='append', index=False, chunksize=10000)"
      ],
      "id": "TXm1ta_FnPZ-",
      "execution_count": 11,
      "outputs": [
        {
          "output_type": "stream",
          "text": [
            "/usr/local/lib/python3.7/dist-packages/pandas/core/generic.py:2615: UserWarning: The spaces in these column names will not be changed. In pandas versions < 0.14, spaces were converted to underscores.\n",
            "  method=method,\n"
          ],
          "name": "stderr"
        }
      ]
    },
    {
      "cell_type": "markdown",
      "metadata": {
        "id": "R0UPp3zCFZdg"
      },
      "source": [
        "## Updating DB"
      ],
      "id": "R0UPp3zCFZdg"
    },
    {
      "cell_type": "markdown",
      "metadata": {
        "id": "ss7Y9OlvJbGw"
      },
      "source": [
        "Probably its more useful to have all fields the same language, so we've update DB "
      ],
      "id": "ss7Y9OlvJbGw"
    },
    {
      "cell_type": "code",
      "metadata": {
        "id": "RpcGqfQMFY8e"
      },
      "source": [
        "query = \"\"\"\n",
        "UPDATE meta \n",
        "SET breed = 'D' \n",
        "WHERE breed = 'Д'\n",
        "\"\"\"\n",
        "connection.execute(query)\n",
        "connection.commit()"
      ],
      "id": "RpcGqfQMFY8e",
      "execution_count": 26,
      "outputs": []
    },
    {
      "cell_type": "markdown",
      "metadata": {
        "id": "0iBpLOJgBktM"
      },
      "source": [
        "## Editing db timeout"
      ],
      "id": "0iBpLOJgBktM"
    },
    {
      "cell_type": "code",
      "metadata": {
        "colab": {
          "base_uri": "https://localhost:8080/"
        },
        "id": "IR9-r3oRnPpI",
        "outputId": "28a3c51a-5fda-4151-8d55-300de11dc569"
      },
      "source": [
        "# Timeout change for editing db\n",
        "def read_sqlite_table():\n",
        "    try:\n",
        "        sqlite_connection= sqlite3.connect('genotype.db', timeout=20)\n",
        "        cursor = sqlite_connection.cursor()\n",
        "        print(\"Подключен к SQLite\")\n",
        "\n",
        "        sqlite_select_query = \"\"\"SELECT count(*) from genotype\"\"\"\n",
        "        cursor.execute(sqlite_select_query)\n",
        "        total_rows = cursor.fetchone()\n",
        "        print(\"Всего строк:  \", total_rows)\n",
        "        cursor.close()\n",
        "\n",
        "    except sqlite3.Error as error:\n",
        "        print(\"Ошибка при подключении к sqlite\", error)\n",
        "\n",
        "read_sqlite_table()"
      ],
      "id": "IR9-r3oRnPpI",
      "execution_count": 12,
      "outputs": [
        {
          "output_type": "stream",
          "text": [
            "Подключен к SQLite\n",
            "Всего строк:   (2000000,)\n"
          ],
          "name": "stdout"
        }
      ]
    },
    {
      "cell_type": "markdown",
      "metadata": {
        "id": "UZhVuG4L9OSZ"
      },
      "source": [
        "## Deleting bad DNA chip ID\n",
        "We've noticed some problems with one of SNP's. So we want to delete it from both metadata and genotype"
      ],
      "id": "UZhVuG4L9OSZ"
    },
    {
      "cell_type": "code",
      "metadata": {
        "id": "EqnugngA9BLu"
      },
      "source": [
        "query = '''\n",
        "    PRAGMA foreign_keys=1'''\n",
        "connection.execute(query)\n",
        "\n",
        "query = '''\n",
        "    DELETE FROM meta\n",
        "    WHERE \"dna_chip_id\" = \"202341831114R02C01\"'''\n",
        "connection.execute(query)\n",
        "connection.commit()"
      ],
      "id": "EqnugngA9BLu",
      "execution_count": 18,
      "outputs": []
    },
    {
      "cell_type": "markdown",
      "metadata": {
        "id": "6RJA5cfCDTWW"
      },
      "source": [
        "## Fetching data"
      ],
      "id": "6RJA5cfCDTWW"
    },
    {
      "cell_type": "markdown",
      "metadata": {
        "id": "AVhGkm5cDWxU"
      },
      "source": [
        "As we deleted bad chip ID let's check that it was right and try to find this bad chip ID in our db "
      ],
      "id": "AVhGkm5cDWxU"
    },
    {
      "cell_type": "code",
      "metadata": {
        "colab": {
          "base_uri": "https://localhost:8080/"
        },
        "id": "PWJLL9guDwiU",
        "outputId": "cafae99f-23f0-4106-b64f-13d1ce60a4af"
      },
      "source": [
        "query = '''\n",
        "    SELECT * FROM meta\n",
        "    WHERE \"dna_chip_id\" = \"202341831114R02C01\"'''\n",
        "find = connection.execute(query)\n",
        "connection.commit()  \n",
        "print(find.fetchall())"
      ],
      "id": "PWJLL9guDwiU",
      "execution_count": 24,
      "outputs": [
        {
          "output_type": "stream",
          "text": [
            "[]\n"
          ],
          "name": "stdout"
        }
      ]
    },
    {
      "cell_type": "markdown",
      "metadata": {
        "id": "ntZmiKXAEKBX"
      },
      "source": [
        "As we expected there is no such ID in DB now"
      ],
      "id": "ntZmiKXAEKBX"
    },
    {
      "cell_type": "markdown",
      "metadata": {
        "id": "a31kAs6FEX89"
      },
      "source": [
        "Now we want to check correctness of our joining data, so let's fetch 3 records from db."
      ],
      "id": "a31kAs6FEX89"
    },
    {
      "cell_type": "code",
      "metadata": {
        "id": "nm6RVCUdnPr8",
        "colab": {
          "base_uri": "https://localhost:8080/"
        },
        "outputId": "b366a1d3-d245-4b56-ba94-146c7f630128"
      },
      "source": [
        "query = '''\n",
        "    SELECT * FROM meta\n",
        "    JOIN genotype ON genotype.\"dna_chip_id\" = meta.\"dna_chip_id\"\n",
        "    LIMIT 5'''\n",
        "res = connection.execute(query)\n",
        "for line in res.fetchall():\n",
        "    print(line)"
      ],
      "id": "nm6RVCUdnPr8",
      "execution_count": 25,
      "outputs": [
        {
          "output_type": "stream",
          "text": [
            "('202341831114R01C01', 'Д', 'Хр', 1, '1_10573221', 1, 0, '202341831114R01C01', '[T/C]', '-', '-', '-', '-', '-', '-', '1', '10573221', 0.0, 0.0, 0.9420000000000001, 0.413, 1.0, 0.404)\n",
            "('202341831114R01C01', 'Д', 'Хр', 2, '1_10673082', 2, 0, '202341831114R01C01', '[T/C]', 'A', 'A', 'T', 'T', 'A', 'A', '1', '10673082', 0.8272, 0.8076, 0.039, 0.968, 0.0, 0.3017)\n",
            "('202341831114R01C01', 'Д', 'Хр', 3, '1_10723065', 3, 0, '202341831114R01C01', '[A/G]', 'A', 'A', 'T', 'T', 'A', 'A', '1', '10723065', 0.8316, 0.8107, 0.011000000000000001, 1.577, 0.0, 0.0388)\n",
            "('202341831114R01C01', 'Д', 'Хр', 4, '1_11337555', 4, 0, '202341831114R01C01', '[A/G]', 'A', 'A', 'T', 'T', 'A', 'A', '1', '11337555', 0.3781, 0.7925, 0.045, 1.104, 0.0, 0.2761)\n",
            "('202341831114R01C01', 'Д', 'Хр', 5, '1_11407894', 5, 0, '202341831114R01C01', '[A/G]', 'G', 'G', 'G', 'G', 'B', 'B', '1', '11407894', 0.9038, 0.867, 0.983, 1.122, 0.9994, 0.0022)\n"
          ],
          "name": "stdout"
        }
      ]
    },
    {
      "cell_type": "markdown",
      "metadata": {
        "id": "3QF83AKCK2K0"
      },
      "source": [
        "Also let's look at 15 first SNP's names with [T/C] SNP"
      ],
      "id": "3QF83AKCK2K0"
    },
    {
      "cell_type": "code",
      "metadata": {
        "colab": {
          "base_uri": "https://localhost:8080/"
        },
        "id": "AnpwQLZ8nPui",
        "outputId": "6f41fc04-17b7-4b58-abb2-67358e83cbee"
      },
      "source": [
        "query = '''\n",
        "    SELECT \"SNP name\" FROM genotype\n",
        "    WHERE \"SNP\"=\"[T/C]\"\n",
        "    LIMIT 15'''\n",
        "res = connection.execute(query)\n",
        "for line in res:\n",
        "  print(line)"
      ],
      "id": "AnpwQLZ8nPui",
      "execution_count": 39,
      "outputs": [
        {
          "output_type": "stream",
          "text": [
            "('1_10573221',)\n",
            "('1_10673082',)\n",
            "('1_11426075',)\n",
            "('1_11445382',)\n",
            "('1_13996200',)\n",
            "('1_14638936',)\n",
            "('1_17537210',)\n",
            "('1_2812415',)\n",
            "('1_294072400',)\n",
            "('1_304970973',)\n",
            "('1_305018214',)\n",
            "('1_308334169',)\n",
            "('1_309509770',)\n",
            "('1_310058452',)\n",
            "('1_32706368',)\n"
          ],
          "name": "stdout"
        }
      ]
    },
    {
      "cell_type": "markdown",
      "metadata": {
        "id": "tYkrewqoNDge"
      },
      "source": [
        "## Delete records"
      ],
      "id": "tYkrewqoNDge"
    },
    {
      "cell_type": "markdown",
      "metadata": {
        "id": "H1qbnscoN5Bl"
      },
      "source": [
        "We are not really interested in SNPs in X or Y chr, so let's delete this records"
      ],
      "id": "H1qbnscoN5Bl"
    },
    {
      "cell_type": "code",
      "metadata": {
        "id": "Jo-Hf6snnPx9"
      },
      "source": [
        "query = '''\n",
        "    DELETE FROM genotype\n",
        "    WHERE \"Chr\" = \"X\"'''\n",
        "connection.execute(query)\n",
        "connection.commit()\n",
        "query = '''\n",
        "    DELETE FROM genotype\n",
        "    WHERE \"Chr\" = \"Y\"'''\n",
        "connection.execute(query)\n",
        "connection.commit()"
      ],
      "id": "Jo-Hf6snnPx9",
      "execution_count": 40,
      "outputs": []
    },
    {
      "cell_type": "code",
      "metadata": {
        "id": "KSvdap51nP1R"
      },
      "source": [
        "# close database\n",
        "connection.close()"
      ],
      "id": "KSvdap51nP1R",
      "execution_count": 41,
      "outputs": []
    }
  ]
}